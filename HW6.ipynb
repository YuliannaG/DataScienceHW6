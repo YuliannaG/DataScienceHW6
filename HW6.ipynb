{
  "cells": [
    {
      "cell_type": "markdown",
      "metadata": {
        "id": "view-in-github",
        "colab_type": "text"
      },
      "source": [
        "<a href=\"https://colab.research.google.com/github/YuliannaG/DataScienceHW6/blob/main/HW6.ipynb\" target=\"_parent\"><img src=\"https://colab.research.google.com/assets/colab-badge.svg\" alt=\"Open In Colab\"/></a>"
      ]
    },
    {
      "cell_type": "markdown",
      "metadata": {
        "id": "IHGpfGb2aOJy"
      },
      "source": [
        "#Task 1"
      ]
    },
    {
      "cell_type": "code",
      "execution_count": 3,
      "metadata": {
        "colab": {
          "base_uri": "https://localhost:8080/"
        },
        "id": "dGIgAI3Eak7Z",
        "outputId": "7a60bea5-cfd9-49c7-e2ec-637711b0c587"
      },
      "outputs": [
        {
          "output_type": "stream",
          "name": "stdout",
          "text": [
            "Looking in indexes: https://pypi.org/simple, https://us-python.pkg.dev/colab-wheels/public/simple/\n",
            "Collecting pyspark\n",
            "  Downloading pyspark-3.3.1.tar.gz (281.4 MB)\n",
            "\u001b[2K     \u001b[90m━━━━━━━━━━━━━━━━━━━━━━━━━━━━━━━━━━━━━━━\u001b[0m \u001b[32m281.4/281.4 MB\u001b[0m \u001b[31m5.6 MB/s\u001b[0m eta \u001b[36m0:00:00\u001b[0m\n",
            "\u001b[?25h  Preparing metadata (setup.py) ... \u001b[?25l\u001b[?25hdone\n",
            "Collecting py4j==0.10.9.5\n",
            "  Downloading py4j-0.10.9.5-py2.py3-none-any.whl (199 kB)\n",
            "\u001b[2K     \u001b[90m━━━━━━━━━━━━━━━━━━━━━━━━━━━━━━━━━━━━━━\u001b[0m \u001b[32m199.7/199.7 KB\u001b[0m \u001b[31m21.6 MB/s\u001b[0m eta \u001b[36m0:00:00\u001b[0m\n",
            "\u001b[?25hBuilding wheels for collected packages: pyspark\n",
            "  Building wheel for pyspark (setup.py) ... \u001b[?25l\u001b[?25hdone\n",
            "  Created wheel for pyspark: filename=pyspark-3.3.1-py2.py3-none-any.whl size=281845512 sha256=537754597af4c3bb404c7820d6c3ccf8ed26f43798a19396375f294e7c8a0b2e\n",
            "  Stored in directory: /root/.cache/pip/wheels/43/dc/11/ec201cd671da62fa9c5cc77078235e40722170ceba231d7598\n",
            "Successfully built pyspark\n",
            "Installing collected packages: py4j, pyspark\n",
            "Successfully installed py4j-0.10.9.5 pyspark-3.3.1\n"
          ]
        }
      ],
      "source": [
        "pip install pyspark"
      ]
    },
    {
      "cell_type": "code",
      "execution_count": 4,
      "metadata": {
        "colab": {
          "base_uri": "https://localhost:8080/"
        },
        "id": "DZKnWkHHaNkQ",
        "outputId": "b7377d3e-100e-49aa-e5bd-f9f0bedd790a"
      },
      "outputs": [
        {
          "output_type": "stream",
          "name": "stdout",
          "text": [
            "The data has 7 columns\n",
            "Row(_c0='Name', _c1='Author', _c2='User Rating', _c3='Reviews', _c4='Price', _c5='Year', _c6='Genre')\n"
          ]
        }
      ],
      "source": [
        "import pandas as pd\n",
        "import pyspark\n",
        "import numpy as np\n",
        "import seaborn as sns\n",
        "import matplotlib.pyplot as plt\n",
        "\n",
        "\n",
        "from pyspark.sql import Row\n",
        "from pyspark.sql import SparkSession\n",
        "\n",
        "\n",
        "spark_session = SparkSession.builder.appName(\"books\").getOrCreate()\n",
        "\n",
        "path = \"/content/drive/MyDrive/books.csv\"\n",
        "\n",
        "rdd = spark_session.read.csv(path).rdd\n",
        "#rdd = spark.read.option(\"header\",'True').csv(path).rdd\n",
        "\n",
        "print(\"The data has {} columns\".format(len(rdd.first())))\n",
        "\n",
        "header = rdd.first()\n",
        "print(header)"
      ]
    },
    {
      "cell_type": "markdown",
      "source": [
        "Используя только RDD вычислить среднюю цену всех книг, у которых рейтинг выше 4.7"
      ],
      "metadata": {
        "id": "CrJZuQ1wtnYE"
      }
    },
    {
      "cell_type": "code",
      "source": [
        "#https://datascienceplus.com/dataframes-vs-rdds-in-spark-part-1/\n",
        "\n",
        "content = rdd.filter(lambda line: line != header)\n",
        "\n",
        "prices = content.filter(lambda line: line[2] > '4.7').map(lambda line:float(line[4])).collect()\n",
        "avg_price = np.mean(prices)\n",
        "print(f'Average price of books with raiting > 4.7 is {avg_price}')"
      ],
      "metadata": {
        "colab": {
          "base_uri": "https://localhost:8080/"
        },
        "id": "vkpT0ly4eJJr",
        "outputId": "a92737e7-a129-4032-acb5-35778018e783"
      },
      "execution_count": 7,
      "outputs": [
        {
          "output_type": "stream",
          "name": "stdout",
          "text": [
            "Average price of books with raiting > 4.7 is 10.69832402234637\n"
          ]
        }
      ]
    },
    {
      "cell_type": "markdown",
      "source": [
        "Построить гистограмму распределения рецензий (столбец Reviews)."
      ],
      "metadata": {
        "id": "REz3oRlNttKZ"
      }
    },
    {
      "cell_type": "code",
      "source": [
        "#https://spark.apache.org/docs/latest/api/python/reference/api/pyspark.RDD.histogram.html\n",
        "\n",
        "reviews = content.map(lambda line:float(line[3]))\n",
        "\n",
        "hist1 = reviews.histogram([0,10000, 20000, 30000, 40000, 50000, 60000, 70000, 80000, 90000])\n",
        "print(hist1)\n",
        "\n",
        "hist2 = reviews.histogram(10)\n",
        "print(hist2)\n",
        "\n",
        "\n",
        "fig1 = plt.figure(\"Option 1\")\n",
        "heights1 = np.array(hist1[1])\n",
        "full_bins1 = hist1[0]\n",
        "mid_point_bins1 = full_bins1[:-1]\n",
        "widths1 = [abs(i - j) for i, j in zip(full_bins1[:-1], full_bins1[1:])]\n",
        "plt.bar(mid_point_bins1, heights1, width=widths1, color='r')\n",
        "plt.title(\"Option 1\")\n",
        "\n",
        "plt.show()\n",
        "\n",
        "fig2 = plt.figure(\"Option 1\")\n",
        "heights2 = np.array(hist2[1])\n",
        "full_bins2 = hist2[0]\n",
        "mid_point_bins2 = full_bins2[:-1]\n",
        "widths2 = [abs(i - j) for i, j in zip(full_bins2[:-1], full_bins2[1:])]\n",
        "plt.bar(mid_point_bins2, heights2, width=widths2, color='b')\n",
        "plt.title(\"Option 2\")\n",
        "\n",
        "plt.show()"
      ],
      "metadata": {
        "colab": {
          "base_uri": "https://localhost:8080/",
          "height": 601
        },
        "id": "H7XqTU_Kdlcb",
        "outputId": "b3334721-74ba-4718-d184-b199ace70be9"
      },
      "execution_count": 8,
      "outputs": [
        {
          "output_type": "stream",
          "name": "stdout",
          "text": [
            "([0, 10000, 20000, 30000, 40000, 50000, 60000, 70000, 80000, 90000], [325, 119, 79, 11, 4, 7, 2, 2, 1])\n",
            "([37.0, 8817.4, 17597.8, 26378.199999999997, 35158.6, 43939.0, 52719.399999999994, 61499.799999999996, 70280.2, 79060.59999999999, 87841.0], [287, 131, 87, 25, 4, 8, 5, 0, 0, 3])\n"
          ]
        },
        {
          "output_type": "display_data",
          "data": {
            "text/plain": [
              "<Figure size 432x288 with 1 Axes>"
            ],
            "image/png": "[encoded data removed]"
          },
          "metadata": {
            "needs_background": "light"
          }
        },
        {
          "output_type": "display_data",
          "data": {
            "text/plain": [
              "<Figure size 432x288 with 1 Axes>"
            ],
            "image/png": "[encoded data removed]"
          },
          "metadata": {
            "needs_background": "light"
          }
        }
      ]
    },
    {
      "cell_type": "markdown",
      "source": [
        "Построить матрицу корреляции для столбцов \"User Rating\", \"Reviews\" и \"Price\"."
      ],
      "metadata": {
        "id": "7okKIs-GtvaS"
      }
    },
    {
      "cell_type": "code",
      "source": [
        "#from pyspark.mllib.stat import Statistics\n",
        "\n",
        "# rating = content.map(lambda line:float(line[2]))\n",
        "# reviews = content.map(lambda line:float(line[3]))\n",
        "# price = content.map(lambda line:float(line[4]))\n",
        "# Statistics.corr(rating, reviews, method = 'pearson')\n",
        "# CANNOT MAKE THE MATRIXS WITH CORRELATION OF ALL 3 PARAMETERS\n",
        "\n",
        "df = spark_session.read.option(\"header\",'True').csv(path)\n",
        "df_cut = df['User rating', 'Reviews', 'Price'].toPandas().astype(float)\n",
        "print('Correlation matrix\\n',df_cut.corr(method = \"pearson\"))\n"
      ],
      "metadata": {
        "colab": {
          "base_uri": "https://localhost:8080/"
        },
        "id": "UwIG10pOty65",
        "outputId": "01f87acc-dc3a-4ca9-93c6-d0e66db7c4cd"
      },
      "execution_count": 58,
      "outputs": [
        {
          "output_type": "stream",
          "name": "stdout",
          "text": [
            "Correlation matrix\n",
            "              User rating   Reviews     Price\n",
            "User rating     1.000000 -0.001729 -0.133086\n",
            "Reviews        -0.001729  1.000000 -0.109182\n",
            "Price          -0.133086 -0.109182  1.000000\n"
          ]
        }
      ]
    },
    {
      "cell_type": "markdown",
      "source": [
        "Используя библиотеку seaborn построить парные графики (pairplots) столбцов \"User Rating\", \"Reviews\" и \"Price\"."
      ],
      "metadata": {
        "id": "4mxMRiH73DFe"
      }
    },
    {
      "cell_type": "code",
      "source": [
        "df_cut2 = df['User rating', 'Reviews', 'Price'].toPandas().astype(float)\n",
        "sns.pairplot(df_cut2)"
      ],
      "metadata": {
        "colab": {
          "base_uri": "https://localhost:8080/",
          "height": 568
        },
        "id": "bx4Nc_D73D8s",
        "outputId": "e2546b99-d2d6-4666-e451-051c9e0f203f"
      },
      "execution_count": 6,
      "outputs": [
        {
          "output_type": "execute_result",
          "data": {
            "text/plain": [
              "<seaborn.axisgrid.PairGrid at 0x7f5e41a1d100>"
            ]
          },
          "metadata": {},
          "execution_count": 6
        },
        {
          "output_type": "display_data",
          "data": {
            "text/plain": [
              "<Figure size 540x540 with 12 Axes>"
            ],
            "image/png": "[encoded data removed]"
          },
          "metadata": {
            "needs_background": "light"
          }
        }
      ]
    },
    {
      "cell_type": "markdown",
      "source": [
        "# Task 2"
      ],
      "metadata": {
        "id": "I4ZYxCx4xrXR"
      }
    },
    {
      "cell_type": "markdown",
      "source": [
        "При выполнении этого задания разрешается использовать только Spark SQL. Для датасета из предыдущего задания выполните следующее:\n",
        "\n",
        "Найдите автора с самым высоким рейтингом."
      ],
      "metadata": {
        "id": "uDg1tBTpZamF"
      }
    },
    {
      "cell_type": "code",
      "source": [
        "import pyspark.sql.functions as F\n",
        "\n",
        "df.createOrReplaceTempView(\"books\")\n",
        "spark_session.sql(\"Select Author, avg(`User Rating`) From books Group By Author Order by avg(`User Rating`) DESC Limit 1\").show()"
      ],
      "metadata": {
        "colab": {
          "base_uri": "https://localhost:8080/"
        },
        "id": "7stqSy5QxqIT",
        "outputId": "6b532145-3bc6-46c9-9b22-4be04b2d3993"
      },
      "execution_count": 67,
      "outputs": [
        {
          "output_type": "stream",
          "name": "stdout",
          "text": [
            "+----------+----------------+\n",
            "|    Author|avg(User Rating)|\n",
            "+----------+----------------+\n",
            "|Jill Twiss|             4.9|\n",
            "+----------+----------------+\n",
            "\n"
          ]
        }
      ]
    },
    {
      "cell_type": "markdown",
      "source": [
        "Найдите трех авторов с самым низким рейтингом."
      ],
      "metadata": {
        "id": "aSzx9vD_mpd0"
      }
    },
    {
      "cell_type": "code",
      "source": [
        "spark_session.sql(\"Select Author, avg(`User Rating`) From books Group By Author Order by avg(`User Rating`) ASC Limit 3\").show()"
      ],
      "metadata": {
        "colab": {
          "base_uri": "https://localhost:8080/"
        },
        "id": "Vk3iYmwxmpCA",
        "outputId": "ac5dd025-e51b-4dc5-eb36-48d4643778df"
      },
      "execution_count": 68,
      "outputs": [
        {
          "output_type": "stream",
          "name": "stdout",
          "text": [
            "+--------------+----------------+\n",
            "|        Author|avg(User Rating)|\n",
            "+--------------+----------------+\n",
            "|   Donna Tartt|             3.9|\n",
            "| Gillian Flynn|             4.0|\n",
            "|Muriel Barbery|             4.0|\n",
            "+--------------+----------------+\n",
            "\n"
          ]
        }
      ]
    },
    {
      "cell_type": "markdown",
      "source": [
        "Определите какой автор получил наибольшее количество рецензий."
      ],
      "metadata": {
        "id": "PYZv66sUm4OL"
      }
    },
    {
      "cell_type": "code",
      "source": [
        "spark_session.sql(\"Select Author, sum(Reviews) From books Group By Author Order by sum(Reviews) DESC Limit 1\").show()"
      ],
      "metadata": {
        "colab": {
          "base_uri": "https://localhost:8080/"
        },
        "id": "UsLb7DWRm5Cs",
        "outputId": "d7708523-dfcc-42c4-c7f1-a7e1e9413a18"
      },
      "execution_count": 72,
      "outputs": [
        {
          "output_type": "stream",
          "name": "stdout",
          "text": [
            "+---------------+------------+\n",
            "|         Author|sum(Reviews)|\n",
            "+---------------+------------+\n",
            "|Suzanne Collins|    278329.0|\n",
            "+---------------+------------+\n",
            "\n"
          ]
        }
      ]
    },
    {
      "cell_type": "markdown",
      "source": [
        "Определите какой автор написал наибольшее количество книг за весь доступный в данных период."
      ],
      "metadata": {
        "id": "QD1ldWbknZuY"
      }
    },
    {
      "cell_type": "code",
      "source": [
        "spark_session.sql(\"Select Author, count(Name) From books Group By Author Order by count(Name) DESC Limit 1\").show()"
      ],
      "metadata": {
        "colab": {
          "base_uri": "https://localhost:8080/"
        },
        "id": "mahqonOEnaKh",
        "outputId": "cadc0a1b-0600-4f62-f923-2b49eacabf80"
      },
      "execution_count": 75,
      "outputs": [
        {
          "output_type": "stream",
          "name": "stdout",
          "text": [
            "+-----------+-----------+\n",
            "|     Author|count(Name)|\n",
            "+-----------+-----------+\n",
            "|Jeff Kinney|         12|\n",
            "+-----------+-----------+\n",
            "\n"
          ]
        }
      ]
    },
    {
      "cell_type": "markdown",
      "source": [
        "Определите какая книга жанра \"Fiction\" имеет самый маленький рейтинг"
      ],
      "metadata": {
        "id": "iLukXs-FooDQ"
      }
    },
    {
      "cell_type": "code",
      "source": [
        "spark_session.sql(\"Select Name, `User Rating`, Genre From books Where Genre = 'Fiction' Order by `User Rating` ASC Limit 1 \").show()"
      ],
      "metadata": {
        "colab": {
          "base_uri": "https://localhost:8080/"
        },
        "id": "YQiE38proow2",
        "outputId": "c627cd65-e90a-4980-b8b3-4d150bd7fd1c"
      },
      "execution_count": 91,
      "outputs": [
        {
          "output_type": "stream",
          "name": "stdout",
          "text": [
            "+------------------+-----------+-------+\n",
            "|              Name|User Rating|  Genre|\n",
            "+------------------+-----------+-------+\n",
            "|The Casual Vacancy|        3.3|Fiction|\n",
            "+------------------+-----------+-------+\n",
            "\n"
          ]
        }
      ]
    },
    {
      "cell_type": "markdown",
      "source": [
        "Определите какая книга жанра \"Non Fiction\" имеет самый высокий рейтинг."
      ],
      "metadata": {
        "id": "gzFt8bkSq7sm"
      }
    },
    {
      "cell_type": "code",
      "source": [
        "spark_session.sql(\"Select Name, `User Rating`, Genre From books Where Genre = 'Non Fiction' Order by `User Rating` DESC Limit 1 \").show()"
      ],
      "metadata": {
        "colab": {
          "base_uri": "https://localhost:8080/"
        },
        "id": "F0Jra8SQq8UP",
        "outputId": "b68757ff-93d6-4411-eba5-0b12fab23e89"
      },
      "execution_count": 94,
      "outputs": [
        {
          "output_type": "stream",
          "name": "stdout",
          "text": [
            "+--------------------+-----------+-----------+\n",
            "|                Name|User Rating|      Genre|\n",
            "+--------------------+-----------+-----------+\n",
            "|Hamilton: The Rev...|        4.9|Non Fiction|\n",
            "+--------------------+-----------+-----------+\n",
            "\n"
          ]
        }
      ]
    },
    {
      "cell_type": "markdown",
      "source": [
        "# Task 3"
      ],
      "metadata": {
        "id": "QLq9WSAirJIQ"
      }
    },
    {
      "cell_type": "markdown",
      "source": [
        "Постройте гистограмму среднего количества рецензий по годам. В виде отдельной гистограммы визуализируйте количество книг жанра \"Fiction\" и \"Non Fiction\" за весь доступный период."
      ],
      "metadata": {
        "id": "TE9Z-O0krOQc"
      }
    },
    {
      "cell_type": "code",
      "source": [
        "df_reviews = df['Reviews', 'Year'].toPandas().astype(float)\n",
        "\n",
        "fig1 = plt.figure()\n",
        "reviews = np.array(df_reviews['Reviews'])\n",
        "years = np.array(df_reviews['Year'])\n",
        "plt.bar(years, reviews, color='b')\n",
        "plt.title(\"Reviews by year\")\n",
        "\n",
        "plt.show()"
      ],
      "metadata": {
        "colab": {
          "base_uri": "https://localhost:8080/",
          "height": 281
        },
        "id": "iewB7GrmrPBl",
        "outputId": "b1ebaf04-fe1f-4892-bd47-10ac4fc29ea2"
      },
      "execution_count": 100,
      "outputs": [
        {
          "output_type": "display_data",
          "data": {
            "text/plain": [
              "<Figure size 432x288 with 1 Axes>"
            ],
            "image/png": "[encoded data removed]"
          },
          "metadata": {
            "needs_background": "light"
          }
        }
      ]
    },
    {
      "cell_type": "code",
      "source": [
        "df_genres = df['Name', 'Genre'].toPandas()\n",
        "ax = sns.countplot(x=\"Genre\", data=df_genres)\n",
        "ax.set(title = \"Total number of books by genre\")\n",
        "ax.set_xlabel(\"Genre of books\")\n",
        "ax.set_ylabel(\"Total count of books\")\n",
        "\n",
        "plt.show()"
      ],
      "metadata": {
        "colab": {
          "base_uri": "https://localhost:8080/",
          "height": 301
        },
        "id": "xNva7wHPtVO9",
        "outputId": "cd24ae0b-891d-46c6-92ee-ab9dfb9393e2"
      },
      "execution_count": 128,
      "outputs": [
        {
          "output_type": "display_data",
          "data": {
            "text/plain": [
              "<Figure size 432x288 with 1 Axes>"
            ],
            "image/png": "[encoded data removed]"
          },
          "metadata": {}
        }
      ]
    }
  ],
  "metadata": {
    "colab": {
      "provenance": [],
      "toc_visible": true,
      "mount_file_id": "104cjLn23hSWLhx4VciePRNgI4xuP3_ic",
      "authorship_tag": "ABX9TyMKcHsMUK1Lhfw7TzWAOQr7",
      "include_colab_link": true
    },
    "kernelspec": {
      "display_name": "Python 3",
      "name": "python3"
    },
    "language_info": {
      "name": "python"
    }
  },
  "nbformat": 4,
  "nbformat_minor": 0
}